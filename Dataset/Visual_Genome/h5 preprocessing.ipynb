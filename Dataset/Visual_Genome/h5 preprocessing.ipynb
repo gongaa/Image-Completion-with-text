{
 "cells": [
  {
   "cell_type": "code",
   "execution_count": 1,
   "metadata": {},
   "outputs": [
    {
     "name": "stdout",
     "output_type": "stream",
     "text": [
      "51498\n"
     ]
    }
   ],
   "source": [
    "# coco_vg_info: list of info for images that are in vg and coco\n",
    "import json\n",
    "from pprint import pprint\n",
    "with open('coco_overlap.json') as data_file:\n",
    "    coco_vg_info = json.load(data_file)\n",
    "print(len(coco_vg_info))"
   ]
  },
  {
   "cell_type": "code",
   "execution_count": 2,
   "metadata": {},
   "outputs": [
    {
     "name": "stdout",
     "output_type": "stream",
     "text": [
      "51498\n"
     ]
    }
   ],
   "source": [
    "# vg_idx: vg image that also in coco\n",
    "vg_idx = []\n",
    "for dic in coco_vg_info:\n",
    "    vg_idx.append(int(dic['image_id']))\n",
    "vg_idx.sort()\n",
    "print(len(vg_idx))                     "
   ]
  },
  {
   "cell_type": "code",
   "execution_count": 27,
   "metadata": {},
   "outputs": [
    {
     "name": "stdout",
     "output_type": "stream",
     "text": [
      "61512\n"
     ]
    }
   ],
   "source": [
    "print(vg_idx[0])"
   ]
  },
  {
   "cell_type": "markdown",
   "metadata": {},
   "source": [
    "# h5 format\n",
    "> **key: gt**   \n",
    ">> group key <HDF5 group \"/gt/test\" (25858 members)> <br/>\n",
    ">> group key <HDF5 group \"/gt/train\" (73794 members)> <br/>\n",
    "\n",
    "> **key: meta**\n",
    ">> group key <HDF5 group \"/meta/cls\" (2 members)> <br/>\n",
    ">>> idx2name\n",
    ">>> name2idx\n",
    ">>group key <HDF5 group \"/meta/imid2path\" (108077 members)> <br/>\n",
    ">> group key <HDF5 group \"/meta/pre\" (2 members)> <br/>\n"
   ]
  },
  {
   "cell_type": "code",
   "execution_count": 38,
   "metadata": {},
   "outputs": [],
   "source": [
    "import h5py\n",
    "import os\n",
    "import bisect"
   ]
  },
  {
   "cell_type": "code",
   "execution_count": 35,
   "metadata": {},
   "outputs": [
    {
     "name": "stdout",
     "output_type": "stream",
     "text": [
      "278024180\n"
     ]
    }
   ],
   "source": [
    "path=['/gt/test/', '/gt/train/']\n",
    "test = 0\n",
    "train = 0\n",
    "print(os.path.getsize('vg1_2_meta2.h5'))"
   ]
  },
  {
   "cell_type": "code",
   "execution_count": 41,
   "metadata": {},
   "outputs": [
    {
     "name": "stdout",
     "output_type": "stream",
     "text": [
      "13473\n"
     ]
    }
   ],
   "source": [
    "deleted=0\n",
    "with h5py.File('vg1_2_meta2.h5','a') as f:\n",
    "    for key in f[path[0]].keys():\n",
    "        test +=1\n",
    "        int_key = int(key)\n",
    "        # test whether key is in vg_idx\n",
    "        idx = bisect.bisect(vg_idx, int_key)\n",
    "        if vg_idx[idx-1]!=int_key: # not in vg_idx\n",
    "            # delete that group\n",
    "            del f[path[0]+str(key)]\n",
    "            deleted = deleted + 1\n",
    "#         if key not in vg_idx:\n",
    "#             del f[path[0]+str(key)]\n",
    "#         f.__delitem__('gt/train/2391709')\n",
    "#         print(f['gt/train/2391709'])\n",
    "print(deleted)"
   ]
  },
  {
   "cell_type": "code",
   "execution_count": 43,
   "metadata": {},
   "outputs": [
    {
     "name": "stdout",
     "output_type": "stream",
     "text": [
      "38732\n"
     ]
    }
   ],
   "source": [
    "deleted=0\n",
    "with h5py.File('vg1_2_meta2.h5','a') as f:\n",
    "    for key in f[path[1]].keys():\n",
    "        test +=1\n",
    "        int_key = int(key)\n",
    "        # test whether key is in vg_idx\n",
    "        idx = bisect.bisect(vg_idx, int_key)\n",
    "        if vg_idx[idx-1]!=int_key: # not in vg_idx\n",
    "            # delete that group\n",
    "            del f[path[1]+str(key)]\n",
    "            deleted = deleted + 1\n",
    "#         if key not in vg_idx:\n",
    "#             del f[path[0]+str(key)]\n",
    "#         f.__delitem__('gt/train/2391709')\n",
    "#         print(f['gt/train/2391709'])\n",
    "print(deleted)"
   ]
  },
  {
   "cell_type": "code",
   "execution_count": 48,
   "metadata": {},
   "outputs": [
    {
     "name": "stdout",
     "output_type": "stream",
     "text": [
      "278024180\n"
     ]
    }
   ],
   "source": [
    "f.close()\n",
    "print(os.path.getsize('vg1_2_meta2.h5'))"
   ]
  },
  {
   "cell_type": "code",
   "execution_count": 55,
   "metadata": {},
   "outputs": [],
   "source": [
    "paths=['/gt/test','/gt/train', '/meta/cls','/meta/imid2path','/meta/pre']\n",
    "fs = h5py.File('vg1_2_meta2.h5', 'r')\n",
    "fd = h5py.File('cleaned_vg.h5','w')\n",
    "for path in paths:\n",
    "    group_path = fs[path].parent.name\n",
    "    group_id = fd.require_group(group_path)\n",
    "    fs.copy(path, group_id, name=path.split('/')[-1])"
   ]
  },
  {
   "cell_type": "code",
   "execution_count": 57,
   "metadata": {},
   "outputs": [
    {
     "name": "stdout",
     "output_type": "stream",
     "text": [
      "<HDF5 group \"/gt/test\" (12385 members)>\n",
      "<HDF5 group \"/gt/train\" (35062 members)>\n",
      "<HDF5 group \"/meta/cls\" (2 members)>\n",
      "<HDF5 group \"/meta/imid2path\" (108077 members)>\n",
      "<HDF5 group \"/meta/pre\" (2 members)>\n"
     ]
    }
   ],
   "source": [
    "for path in paths:\n",
    "    print(fd[path])"
   ]
  },
  {
   "cell_type": "code",
   "execution_count": 58,
   "metadata": {},
   "outputs": [],
   "source": [
    "fs.close()\n",
    "fd.close()"
   ]
  },
  {
   "cell_type": "code",
   "execution_count": null,
   "metadata": {},
   "outputs": [],
   "source": []
  }
 ],
 "metadata": {
  "kernelspec": {
   "display_name": "Python 3",
   "language": "python",
   "name": "python3"
  },
  "language_info": {
   "codemirror_mode": {
    "name": "ipython",
    "version": 3
   },
   "file_extension": ".py",
   "mimetype": "text/x-python",
   "name": "python",
   "nbconvert_exporter": "python",
   "pygments_lexer": "ipython3",
   "version": "3.7.0"
  }
 },
 "nbformat": 4,
 "nbformat_minor": 2
}
