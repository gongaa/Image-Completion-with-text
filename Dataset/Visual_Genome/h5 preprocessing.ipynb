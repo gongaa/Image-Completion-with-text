{
 "cells": [
  {
   "cell_type": "code",
   "execution_count": 2,
   "metadata": {},
   "outputs": [
    {
     "name": "stdout",
     "output_type": "stream",
     "text": [
      "51498\n"
     ]
    }
   ],
   "source": [
    "# coco_vg_info: list of info for images that are in vg and coco\n",
    "import json\n",
    "from pprint import pprint\n",
    "with open('coco_overlap.json') as data_file:\n",
    "    coco_vg_info = json.load(data_file)\n",
    "print(len(coco_vg_info))"
   ]
  },
  {
   "cell_type": "code",
   "execution_count": 3,
   "metadata": {},
   "outputs": [
    {
     "name": "stdout",
     "output_type": "stream",
     "text": [
      "51498\n"
     ]
    }
   ],
   "source": [
    "# vg_idx: vg image that also in coco\n",
    "vg_idx = []\n",
    "for dic in coco_vg_info:\n",
    "    vg_idx.append(int(dic['image_id']))\n",
    "vg_idx.sort()\n",
    "print(len(vg_idx))                     "
   ]
  },
  {
   "cell_type": "code",
   "execution_count": 4,
   "metadata": {},
   "outputs": [
    {
     "name": "stdout",
     "output_type": "stream",
     "text": [
      "61512\n"
     ]
    }
   ],
   "source": [
    "print(vg_idx[0])"
   ]
  },
  {
   "cell_type": "markdown",
   "metadata": {},
   "source": [
    "# h5 format\n",
    "> **key: gt**   \n",
    ">> group key <HDF5 group \"/gt/test\" (25858 members)> <br/>\n",
    ">> group key <HDF5 group \"/gt/train\" (73794 members)> <br/>\n",
    "\n",
    "|   key       |          format                        |  \n",
    "|-------------|:--------------------------------------:|  \n",
    "| obj_boxes   | n\\*4 array ($x_1$, $y_1$, $x_2$, $y_2$) ?|     \n",
    "| rlp_labels  | n\\*3 array (s,p,o)                     |\n",
    "| sub_boxes   | n\\*4 array ($x_1$, $y_1$, $x_2$, $y_2$)|  \n",
    "\n",
    "> **key: meta**\n",
    ">> group key <HDF5 group \"/meta/cls\" (2 members)> <br/>\n",
    ">>> idx2name(201, from 0)  \n",
    ">>> name2idx(201, from 0)  \n",
    "\n",
    ">>group key <HDF5 group \"/meta/imid2path\" (108077 members)> <br/>\n",
    ">>> img path('VG_100K_2/1.jpg')\n",
    "\n",
    ">> group key <HDF5 group \"/meta/pre\" (2 members)> <br/>\n",
    ">>> idx2name(100, from 0)"
   ]
  },
  {
   "cell_type": "code",
   "execution_count": 102,
   "metadata": {},
   "outputs": [],
   "source": [
    "import h5py\n",
    "import os\n",
    "import bisect\n",
    "import numpy as np"
   ]
  },
  {
   "cell_type": "code",
   "execution_count": 145,
   "metadata": {},
   "outputs": [
    {
     "name": "stdout",
     "output_type": "stream",
     "text": [
      "278024180\n"
     ]
    }
   ],
   "source": [
    "path=['/gt/test/', '/gt/train/']\n",
    "test = 0\n",
    "train = 0\n",
    "print(os.path.getsize('vg1_2_meta2.h5'))"
   ]
  },
  {
   "cell_type": "code",
   "execution_count": 146,
   "metadata": {},
   "outputs": [
    {
     "name": "stdout",
     "output_type": "stream",
     "text": [
      "13473\n"
     ]
    }
   ],
   "source": [
    "deleted=0\n",
    "with h5py.File('vg1_2_meta2.h5','a') as f:\n",
    "    for key in f[path[0]].keys():\n",
    "        test +=1\n",
    "        int_key = int(key)\n",
    "        # test whether key is in vg_idx\n",
    "        idx = bisect.bisect(vg_idx, int_key)\n",
    "        if vg_idx[idx-1]!=int_key: # not in vg_idx\n",
    "            # delete that group\n",
    "            del f[path[0]+str(key)]\n",
    "            deleted = deleted + 1\n",
    "#         if key not in vg_idx:\n",
    "#             del f[path[0]+str(key)]\n",
    "#         f.__delitem__('gt/train/2391709')\n",
    "#         print(f['gt/train/2391709'])\n",
    "print(deleted)"
   ]
  },
  {
   "cell_type": "code",
   "execution_count": 147,
   "metadata": {},
   "outputs": [
    {
     "name": "stdout",
     "output_type": "stream",
     "text": [
      "38732\n"
     ]
    }
   ],
   "source": [
    "deleted=0\n",
    "with h5py.File('vg1_2_meta2.h5','a') as f:\n",
    "    for key in f[path[1]].keys():\n",
    "        test +=1\n",
    "        int_key = int(key)\n",
    "        # test whether key is in vg_idx\n",
    "        idx = bisect.bisect(vg_idx, int_key)\n",
    "        if vg_idx[idx-1]!=int_key: # not in vg_idx\n",
    "            # delete that group\n",
    "            del f[path[1]+str(key)]\n",
    "            deleted = deleted + 1\n",
    "#         if key not in vg_idx:\n",
    "#             del f[path[0]+str(key)]\n",
    "#         f.__delitem__('gt/train/2391709')\n",
    "#         print(f['gt/train/2391709'])\n",
    "print(deleted)"
   ]
  },
  {
   "cell_type": "code",
   "execution_count": 48,
   "metadata": {},
   "outputs": [
    {
     "name": "stdout",
     "output_type": "stream",
     "text": [
      "278024180\n"
     ]
    }
   ],
   "source": [
    "f.close()\n",
    "print(os.path.getsize('vg1_2_meta2.h5'))"
   ]
  },
  {
   "cell_type": "code",
   "execution_count": 55,
   "metadata": {},
   "outputs": [],
   "source": [
    "paths=['/gt/test','/gt/train', '/meta/cls','/meta/imid2path','/meta/pre']\n",
    "fs = h5py.File('vg1_2_meta2.h5', 'r')\n",
    "fd = h5py.File('cleaned_vg.h5','w')\n",
    "for path in paths:\n",
    "    group_path = fs[path].parent.name\n",
    "    group_id = fd.require_group(group_path)\n",
    "    fs.copy(path, group_id, name=path.split('/')[-1])"
   ]
  },
  {
   "cell_type": "code",
   "execution_count": 57,
   "metadata": {},
   "outputs": [
    {
     "name": "stdout",
     "output_type": "stream",
     "text": [
      "<HDF5 group \"/gt/test\" (12385 members)>\n",
      "<HDF5 group \"/gt/train\" (35062 members)>\n",
      "<HDF5 group \"/meta/cls\" (2 members)>\n",
      "<HDF5 group \"/meta/imid2path\" (108077 members)>\n",
      "<HDF5 group \"/meta/pre\" (2 members)>\n"
     ]
    }
   ],
   "source": [
    "for path in paths:\n",
    "    print(fd[path])"
   ]
  },
  {
   "cell_type": "code",
   "execution_count": 58,
   "metadata": {},
   "outputs": [],
   "source": [
    "fs.close()\n",
    "fd.close()"
   ]
  },
  {
   "cell_type": "code",
   "execution_count": 189,
   "metadata": {},
   "outputs": [],
   "source": [
    "predicate_list = [] # list of tuple: (id, name)\n",
    "predicate_id2name_dic = {}\n",
    "predicate_name2id_dic = {}\n",
    "f = h5py.File('cleaned_vg.h5','r')\n",
    "idx_list = []\n",
    "name_list = []\n",
    "for item in f['meta/pre/idx2name']:\n",
    "    idx_list.append(int(item))\n",
    "    name_list.append(f['meta/pre/idx2name/'+str(item)].value.lower())\n",
    "for idx, name in zip(idx_list, name_list):\n",
    "    predicate_list.append((idx,name))\n",
    "    predicate_id2name_dic[idx] = name\n",
    "    predicate_name2id_dic[name] = idx"
   ]
  },
  {
   "cell_type": "code",
   "execution_count": 190,
   "metadata": {},
   "outputs": [
    {
     "name": "stdout",
     "output_type": "stream",
     "text": [
      "100\n",
      "(0, 'above')\n"
     ]
    }
   ],
   "source": [
    "print(len(predicate_list))\n",
    "print(predicate_list[0])"
   ]
  },
  {
   "cell_type": "code",
   "execution_count": 191,
   "metadata": {},
   "outputs": [],
   "source": [
    "class_list = [] # list of tuple: (id, name)\n",
    "class_id2name_dict = {}\n",
    "class_name2id_dict = {}\n",
    "idx_list = []\n",
    "name_list = []\n",
    "for item in f['meta/cls/idx2name']:\n",
    "    idx_list.append(int(item))\n",
    "    name_list.append(f['meta/cls/idx2name/'+str(item)].value.lower())\n",
    "name_list[0] = '__background__'\n",
    "for idx, name in zip(idx_list, name_list):\n",
    "    class_list.append((idx,name))\n",
    "    class_id2name_dict[idx] = name\n",
    "    class_name2id_dict[name] = idx"
   ]
  },
  {
   "cell_type": "code",
   "execution_count": 192,
   "metadata": {},
   "outputs": [
    {
     "name": "stdout",
     "output_type": "stream",
     "text": [
      "{0: '__background__', 1: 'frisbee', 10: 'basket', 100: 'laptop', 101: 'leaf', 102: 'leg', 103: 'letter', 104: 'light', 105: 'line', 106: 'logo', 107: 'mirror', 108: 'motorcycle', 109: 'mountain', 11: 'bat', 110: 'mouth', 111: 'napkin', 112: 'neck', 113: 'nose', 114: 'number', 115: 'ocean', 116: 'orange', 117: 'pant', 118: 'paper', 119: 'part', 12: 'bathroom', 120: 'pavement', 121: 'paw', 122: 'people', 123: 'person', 124: 'phone', 125: 'picture', 126: 'pillow', 127: 'pizza', 128: 'plane', 129: 'plant', 13: 'beach', 130: 'plate', 131: 'platform', 132: 'player', 133: 'pole', 134: 'pot', 135: 'racket', 136: 'reflection', 137: 'road', 138: 'rock', 139: 'roof', 14: 'bear', 140: 'room', 141: 'sandwich', 142: 'seat', 143: 'shadow', 144: 'sheep', 145: 'shelf', 146: 'shirt', 147: 'shoe', 148: 'short', 149: 'sidewalk', 15: 'bed', 150: 'sign', 151: 'sink', 152: 'skateboard', 153: 'skateboarder', 154: 'ski', 155: 'skier', 156: 'sky', 157: 'snow', 158: 'sock', 159: 'spot', 16: 'bench', 160: 'stand', 161: 'stove', 162: 'street light', 163: 'stripe', 164: 'suitcase', 165: 'sunglass', 166: 'surfboard', 167: 'surfer', 168: 'table', 169: 'tail', 17: 'bicycle', 170: 'teddy bear', 171: 'tie', 172: 'tile', 173: 'tire', 174: 'toddler', 175: 'toilet', 176: 'top', 177: 'towel', 178: 'tower', 179: 'track', 18: 'bike', 180: 'train', 181: 'tray', 182: 'tree', 183: 'truck', 184: 'trunk', 185: 'tv', 186: 'umbrella', 187: 'vase', 188: 'wall', 189: 'watch', 19: 'bird', 190: 'water', 191: 'wave', 192: 'wheel', 193: 'window', 194: 'windshield', 195: 'wing', 196: 'wire', 197: 'wood', 198: 'word', 199: 'writing', 2: 'air', 20: 'blanket', 200: 'zebra', 21: 'board', 22: 'boat', 23: 'book', 24: 'bottle', 25: 'bowl', 26: 'box', 27: 'boy', 28: 'branch', 29: 'bread', 3: 'animal', 30: 'brick', 31: 'bridge', 32: 'broccoli', 33: 'building', 34: 'bus', 35: 'bush', 36: 'button', 37: 'cabinet', 38: 'cake', 39: 'car', 4: 'arm', 40: 'cat', 41: 'catcher', 42: 'ceiling', 43: 'chair', 44: 'cheese', 45: 'clock', 46: 'cloth', 47: 'cloud', 48: 'collar', 49: 'container', 5: 'back', 50: 'couch', 51: 'counter', 52: 'court', 53: 'cow', 54: 'curtain', 55: 'design', 56: 'desk', 57: 'dirt', 58: 'dog', 59: 'door', 6: 'backpack', 60: 'dough nut', 61: 'ear', 62: 'edge', 63: 'elephant', 64: 'engine', 65: 'eye', 66: 'fence', 67: 'field', 68: 'finger', 69: 'flag', 7: 'bag', 70: 'floor', 71: 'flower', 72: 'food', 73: 'foot', 74: 'fork', 75: 'frame', 76: 'fruit', 77: 'giraffe', 78: 'girl', 79: 'glass', 8: 'ball', 80: 'glove', 81: 'grass', 82: 'ground', 83: 'hair', 84: 'hand', 85: 'handle', 86: 'hat', 87: 'head', 88: 'headlight', 89: 'helmet', 9: 'banana', 90: 'horn', 91: 'horse', 92: 'house', 93: 'hydrant', 94: 'jacket', 95: 'keyboard', 96: 'kitchen', 97: 'kite', 98: 'knife', 99: 'lamp'}\n"
     ]
    }
   ],
   "source": [
    "print(class_id2name_dict)"
   ]
  },
  {
   "cell_type": "code",
   "execution_count": 193,
   "metadata": {},
   "outputs": [
    {
     "name": "stdout",
     "output_type": "stream",
     "text": [
      "201\n",
      "(0, '__background__')\n"
     ]
    }
   ],
   "source": [
    "print(len(class_list))\n",
    "print(class_list[0])"
   ]
  },
  {
   "cell_type": "code",
   "execution_count": 194,
   "metadata": {},
   "outputs": [
    {
     "name": "stdout",
     "output_type": "stream",
     "text": [
      "[(0, 'above'), (1, 'across'), (2, 'adorn'), (3, 'against'), (4, 'along'), (5, 'around'), (6, 'at'), (7, 'attach to'), (8, 'behind'), (9, 'belong to'), (10, 'below'), (11, 'beneath'), (12, 'beside'), (13, 'between'), (14, 'build into'), (15, 'by'), (16, 'carry'), (17, 'cast'), (18, 'catch'), (19, 'connect to'), (20, 'contain'), (21, 'cover'), (22, 'cover in'), (23, 'cover with'), (24, 'cross'), (25, 'cut'), (26, 'drive on'), (27, 'eat'), (28, 'face'), (29, 'fill with'), (30, 'fly'), (31, 'fly in'), (32, 'for'), (33, 'from'), (34, 'grow in'), (35, 'grow on'), (36, 'hang in'), (37, 'hang on'), (38, 'have'), (39, 'hit'), (40, 'hold'), (41, 'hold by'), (42, 'in'), (43, 'in front of'), (44, 'in middle of'), (45, 'inside'), (46, 'lay in'), (47, 'lay on'), (48, 'lean on'), (49, 'look at'), (50, 'mount on'), (51, 'near'), (52, 'next to'), (53, 'of'), (54, 'on'), (55, 'on back of'), (56, 'on bottom of'), (57, 'on side of'), (58, 'on top of'), (59, 'outside'), (60, 'over'), (61, 'paint on'), (62, 'park'), (63, 'part of'), (64, 'play'), (65, 'print on'), (66, 'pull'), (67, 'read'), (68, 'reflect in'), (69, 'rest on'), (70, 'ride'), (71, 'say'), (72, 'show'), (73, 'sit at'), (74, 'sit in'), (75, 'sit on'), (76, 'small than'), (77, 'stand behind'), (78, 'stand on'), (79, 'standing by'), (80, 'standing in'), (81, 'standing next to'), (82, 'support'), (83, 'surround'), (84, 'swing'), (85, 'tall than'), (86, 'throw'), (87, 'to'), (88, 'touch'), (89, 'under'), (90, 'underneath'), (91, 'use'), (92, 'walk'), (93, 'walk in'), (94, 'walk on'), (95, 'watch'), (96, 'wear'), (97, 'wear by'), (98, 'with'), (99, 'write on')]\n"
     ]
    }
   ],
   "source": [
    "predicate_list.sort()\n",
    "print(predicate_list)"
   ]
  },
  {
   "cell_type": "code",
   "execution_count": 195,
   "metadata": {
    "scrolled": true
   },
   "outputs": [
    {
     "name": "stdout",
     "output_type": "stream",
     "text": [
      "[(0, '__background__'), (1, 'frisbee'), (2, 'air'), (3, 'animal'), (4, 'arm'), (5, 'back'), (6, 'backpack'), (7, 'bag'), (8, 'ball'), (9, 'banana'), (10, 'basket'), (11, 'bat'), (12, 'bathroom'), (13, 'beach'), (14, 'bear'), (15, 'bed'), (16, 'bench'), (17, 'bicycle'), (18, 'bike'), (19, 'bird'), (20, 'blanket'), (21, 'board'), (22, 'boat'), (23, 'book'), (24, 'bottle'), (25, 'bowl'), (26, 'box'), (27, 'boy'), (28, 'branch'), (29, 'bread'), (30, 'brick'), (31, 'bridge'), (32, 'broccoli'), (33, 'building'), (34, 'bus'), (35, 'bush'), (36, 'button'), (37, 'cabinet'), (38, 'cake'), (39, 'car'), (40, 'cat'), (41, 'catcher'), (42, 'ceiling'), (43, 'chair'), (44, 'cheese'), (45, 'clock'), (46, 'cloth'), (47, 'cloud'), (48, 'collar'), (49, 'container'), (50, 'couch'), (51, 'counter'), (52, 'court'), (53, 'cow'), (54, 'curtain'), (55, 'design'), (56, 'desk'), (57, 'dirt'), (58, 'dog'), (59, 'door'), (60, 'dough nut'), (61, 'ear'), (62, 'edge'), (63, 'elephant'), (64, 'engine'), (65, 'eye'), (66, 'fence'), (67, 'field'), (68, 'finger'), (69, 'flag'), (70, 'floor'), (71, 'flower'), (72, 'food'), (73, 'foot'), (74, 'fork'), (75, 'frame'), (76, 'fruit'), (77, 'giraffe'), (78, 'girl'), (79, 'glass'), (80, 'glove'), (81, 'grass'), (82, 'ground'), (83, 'hair'), (84, 'hand'), (85, 'handle'), (86, 'hat'), (87, 'head'), (88, 'headlight'), (89, 'helmet'), (90, 'horn'), (91, 'horse'), (92, 'house'), (93, 'hydrant'), (94, 'jacket'), (95, 'keyboard'), (96, 'kitchen'), (97, 'kite'), (98, 'knife'), (99, 'lamp'), (100, 'laptop'), (101, 'leaf'), (102, 'leg'), (103, 'letter'), (104, 'light'), (105, 'line'), (106, 'logo'), (107, 'mirror'), (108, 'motorcycle'), (109, 'mountain'), (110, 'mouth'), (111, 'napkin'), (112, 'neck'), (113, 'nose'), (114, 'number'), (115, 'ocean'), (116, 'orange'), (117, 'pant'), (118, 'paper'), (119, 'part'), (120, 'pavement'), (121, 'paw'), (122, 'people'), (123, 'person'), (124, 'phone'), (125, 'picture'), (126, 'pillow'), (127, 'pizza'), (128, 'plane'), (129, 'plant'), (130, 'plate'), (131, 'platform'), (132, 'player'), (133, 'pole'), (134, 'pot'), (135, 'racket'), (136, 'reflection'), (137, 'road'), (138, 'rock'), (139, 'roof'), (140, 'room'), (141, 'sandwich'), (142, 'seat'), (143, 'shadow'), (144, 'sheep'), (145, 'shelf'), (146, 'shirt'), (147, 'shoe'), (148, 'short'), (149, 'sidewalk'), (150, 'sign'), (151, 'sink'), (152, 'skateboard'), (153, 'skateboarder'), (154, 'ski'), (155, 'skier'), (156, 'sky'), (157, 'snow'), (158, 'sock'), (159, 'spot'), (160, 'stand'), (161, 'stove'), (162, 'street light'), (163, 'stripe'), (164, 'suitcase'), (165, 'sunglass'), (166, 'surfboard'), (167, 'surfer'), (168, 'table'), (169, 'tail'), (170, 'teddy bear'), (171, 'tie'), (172, 'tile'), (173, 'tire'), (174, 'toddler'), (175, 'toilet'), (176, 'top'), (177, 'towel'), (178, 'tower'), (179, 'track'), (180, 'train'), (181, 'tray'), (182, 'tree'), (183, 'truck'), (184, 'trunk'), (185, 'tv'), (186, 'umbrella'), (187, 'vase'), (188, 'wall'), (189, 'watch'), (190, 'water'), (191, 'wave'), (192, 'wheel'), (193, 'window'), (194, 'windshield'), (195, 'wing'), (196, 'wire'), (197, 'wood'), (198, 'word'), (199, 'writing'), (200, 'zebra')]\n"
     ]
    }
   ],
   "source": [
    "class_list.sort()\n",
    "print(class_list)"
   ]
  },
  {
   "cell_type": "code",
   "execution_count": 196,
   "metadata": {},
   "outputs": [
    {
     "name": "stdout",
     "output_type": "stream",
     "text": [
      "[(0, '__background__'), (1, 'frisbee'), (2, 'air'), (3, 'animal'), (4, 'arm'), (5, 'back'), (6, 'backpack'), (7, 'bag'), (8, 'ball'), (9, 'pavement'), (10, 'basket'), (11, 'bat'), (12, 'toilet'), (13, 'sand'), (14, 'bear'), (15, 'bed'), (16, 'bench'), (17, 'bicycle'), (18, 'bicycle'), (19, 'bird'), (20, 'blanket'), (21, 'board'), (22, 'boat'), (23, 'book'), (24, 'bottle'), (25, 'bowl'), (26, 'box'), (27, 'boy'), (28, 'branch'), (29, 'bread'), (30, 'brick'), (31, 'bridge'), (32, 'broccoli'), (33, 'building'), (34, 'bus'), (35, 'bush'), (36, 'button'), (37, 'cabinet'), (38, 'cake'), (39, 'car'), (40, 'cat'), (41, 'catcher'), (42, 'ceiling'), (43, 'chair'), (44, 'cheese'), (45, 'clock'), (46, 'cloth'), (47, 'cloud'), (48, 'collar'), (49, 'container'), (50, 'couch'), (51, 'counter'), (52, 'court'), (53, 'cow'), (54, 'curtain'), (55, 'design'), (56, 'desk'), (57, 'dirt'), (58, 'dog'), (59, 'door'), (60, 'donut'), (61, 'ear'), (62, 'edge'), (63, 'elephant'), (64, 'engine'), (65, 'eye'), (66, 'fence'), (67, 'field'), (68, 'finger'), (69, 'flag'), (70, 'floor'), (71, 'flower'), (72, 'food'), (73, 'foot'), (74, 'fork'), (75, 'frame'), (76, 'fruit'), (77, 'giraffe'), (78, 'girl'), (79, 'glass'), (80, 'glove'), (81, 'grass'), (82, 'ground'), (83, 'hair'), (84, 'hand'), (85, 'handle'), (86, 'hat'), (87, 'head'), (88, 'headlight'), (89, 'helmet'), (90, 'horn'), (91, 'horse'), (92, 'house'), (93, 'hydrant'), (94, 'jacket'), (95, 'keyboard'), (96, 'kitchen'), (97, 'kite'), (98, 'knife'), (99, 'lamp'), (100, 'laptop'), (101, 'leaves'), (102, 'leg'), (103, 'letter'), (104, 'light'), (105, 'line'), (106, 'logo'), (107, 'mirror'), (108, 'motorcycle'), (109, 'mountain'), (110, 'mouth'), (111, 'napkin'), (112, 'neck'), (113, 'nose'), (114, 'number'), (115, 'sea'), (116, 'orange'), (117, 'pant'), (118, 'paper'), (119, 'part'), (120, 'pavement'), (121, 'paw'), (122, 'people'), (123, 'person'), (124, 'phone'), (125, 'picture'), (126, 'pillow'), (127, 'pizza'), (128, 'plane'), (129, 'plant'), (130, 'plate'), (131, 'platform'), (132, 'player'), (133, 'pole'), (134, 'pot'), (135, 'racket'), (136, 'reflection'), (137, 'road'), (138, 'rock'), (139, 'roof'), (140, 'room'), (141, 'sandwich'), (142, 'seat'), (143, 'shadow'), (144, 'sheep'), (145, 'shelf'), (146, 'shirt'), (147, 'shoe'), (148, 'short'), (149, 'sidewalk'), (150, 'sign'), (151, 'sink'), (152, 'skateboard'), (153, 'skateboarder'), (154, 'ski'), (155, 'skier'), (156, 'sky'), (157, 'snow'), (158, 'sock'), (159, 'spot'), (160, 'stand'), (161, 'stove'), (162, 'street light'), (163, 'stripe'), (164, 'suitcase'), (165, 'sunglass'), (166, 'surfboard'), (167, 'surfer'), (168, 'table'), (169, 'tail'), (170, 'teddy bear'), (171, 'tie'), (172, 'tile'), (173, 'tire'), (174, 'toddler'), (175, 'toilet'), (176, 'top'), (177, 'towel'), (178, 'tower'), (179, 'track'), (180, 'train'), (181, 'tray'), (182, 'tree'), (183, 'truck'), (184, 'trunk'), (185, 'tv'), (186, 'umbrella'), (187, 'vase'), (188, 'wall'), (189, 'watch'), (190, 'water'), (191, 'wave'), (192, 'wheel'), (193, 'window'), (194, 'windshield'), (195, 'wing'), (196, 'wire'), (197, 'wood'), (198, 'word'), (199, 'writing'), (200, 'zebra')]\n"
     ]
    }
   ],
   "source": [
    "class_list[115] = (115, 'sea')\n",
    "class_list[60] = (60, 'donut')\n",
    "class_list[18] = (18, 'bicycle')\n",
    "class_list[9] = (9, 'pavement')\n",
    "class_list[12] = (12, 'toilet')\n",
    "class_list[101] = (101, 'leaves')\n",
    "class_list[13] = (13, 'sand')\n",
    "print(class_list)"
   ]
  },
  {
   "cell_type": "code",
   "execution_count": 197,
   "metadata": {},
   "outputs": [],
   "source": [
    "coco_obj_categories = [] # store all coco object classes that have segmentation\n",
    "coco_stuff_categories = [] # store all coco stull classes that have segmentation\n",
    "with open('coco_obj_categories.txt','r') as f:\n",
    "    coco_obj_categories = f.readlines()\n",
    "with open('coco_stuff_categories.txt','r') as f:\n",
    "    coco_stuff_categories = f.readlines()"
   ]
  },
  {
   "cell_type": "code",
   "execution_count": 198,
   "metadata": {
    "scrolled": false
   },
   "outputs": [
    {
     "name": "stdout",
     "output_type": "stream",
     "text": [
      "['person', 'bicycle', 'car', 'motorcycle', 'airplane', 'bus', 'train', 'truck', 'boat', 'traffic light', 'fire hydrant', 'stop sign', 'parking meter', 'bench', 'bird', 'cat', 'dog', 'horse', 'sheep', 'cow', 'elephant', 'bear', 'zebra', 'giraffe', 'backpack', 'umbrella', 'handbag', 'tie', 'suitcase', 'frisbee', 'skis', 'snowboard', 'sports ball', 'kite', 'baseball bat', 'baseball glove', 'skateboard', 'surfboard', 'tennis racket', 'bottle', 'wine glass', 'cup', 'fork', 'knife', 'spoon', 'bowl', 'banana', 'apple', 'sandwich', 'orange', 'broccoli', 'carrot', 'hot dog', 'pizza', 'donut', 'cake', 'chair', 'couch', 'potted plant', 'bed', 'dining table', 'toilet', 'tv', 'laptop', 'mouse', 'remote', 'keyboard', 'cell phone', 'microwave', 'oven', 'toaster', 'sink', 'refrigerator', 'book', 'clock', 'vase', 'scissors', 'teddy bear', 'hair drier', 'toothbrush']\n"
     ]
    }
   ],
   "source": [
    "for i,line in enumerate(coco_obj_categories):\n",
    "    coco_obj_categories[i] = line.replace('\\n','')\n",
    "print(coco_obj_categories)"
   ]
  },
  {
   "cell_type": "code",
   "execution_count": 199,
   "metadata": {},
   "outputs": [
    {
     "name": "stdout",
     "output_type": "stream",
     "text": [
      "['banner', 'blanket', 'branch', 'bridge', 'building-other', 'bush', 'cabinet', 'cage', 'cardboard', 'carpet', 'ceiling-other', 'ceiling-tile', 'cloth', 'clothes', 'clouds', 'counter', 'cupboard', 'curtain', 'desk-stuff', 'dirt', 'door-stuff', 'fence', 'floor-marble', 'floor-other', 'floor-stone', 'floor-tile', 'floor-wood', 'flower', 'fog', 'food-other', 'fruit', 'furniture-other', 'grass', 'gravel', 'ground-other', 'hill', 'house', 'leaves', 'light', 'mat', 'metal', 'mirror-stuff', 'moss', 'mountain', 'mud', 'napkin', 'net', 'paper', 'pavement', 'pillow', 'plant-other', 'plastic', 'platform', 'playingfield', 'railing', 'railroad', 'river', 'road', 'rock', 'roof', 'rug', 'salad', 'sand', 'sea', 'shelf', 'sky-other', 'skyscraper', 'snow', 'solid-other', 'stairs', 'stone', 'straw', 'structural-other', 'table', 'tent', 'textile-other', 'towel', 'tree', 'vegetable', 'wall-brick', 'wall-concrete', 'wall-other', 'wall-panel', 'wall-stone', 'wall-tile', 'wall-wood', 'water-other', 'waterdrops', 'window-blind', 'window-other', 'wood', 'other']\n"
     ]
    }
   ],
   "source": [
    "for i,line in enumerate(coco_stuff_categories):\n",
    "    coco_stuff_categories[i] = line.replace('\\n','')\n",
    "    coco_stuff_categories[i] = coco_stuff_categories[i].lower()\n",
    "print(coco_stuff_categories)"
   ]
  },
  {
   "cell_type": "code",
   "execution_count": 200,
   "metadata": {},
   "outputs": [
    {
     "name": "stdout",
     "output_type": "stream",
     "text": [
      "['__background__', 'frisbee', 'air', 'animal', 'arm', 'back', 'backpack', 'bag', 'ball', 'pavement', 'basket', 'bat', 'toilet', 'sand', 'bear', 'bed', 'bench', 'bicycle', 'bicycle', 'bird', 'blanket', 'board', 'boat', 'book', 'bottle', 'bowl', 'box', 'boy', 'branch', 'bread', 'brick', 'bridge', 'broccoli', 'building', 'bus', 'bush', 'button', 'cabinet', 'cake', 'car', 'cat', 'catcher', 'ceiling', 'chair', 'cheese', 'clock', 'cloth', 'cloud', 'collar', 'container', 'couch', 'counter', 'court', 'cow', 'curtain', 'design', 'desk', 'dirt', 'dog', 'door', 'donut', 'ear', 'edge', 'elephant', 'engine', 'eye', 'fence', 'field', 'finger', 'flag', 'floor', 'flower', 'food', 'foot', 'fork', 'frame', 'fruit', 'giraffe', 'girl', 'glass', 'glove', 'grass', 'ground', 'hair', 'hand', 'handle', 'hat', 'head', 'headlight', 'helmet', 'horn', 'horse', 'house', 'hydrant', 'jacket', 'keyboard', 'kitchen', 'kite', 'knife', 'lamp', 'laptop', 'leaves', 'leg', 'letter', 'light', 'line', 'logo', 'mirror', 'motorcycle', 'mountain', 'mouth', 'napkin', 'neck', 'nose', 'number', 'sea', 'orange', 'pant', 'paper', 'part', 'pavement', 'paw', 'people', 'person', 'phone', 'picture', 'pillow', 'pizza', 'plane', 'plant', 'plate', 'platform', 'player', 'pole', 'pot', 'racket', 'reflection', 'road', 'rock', 'roof', 'room', 'sandwich', 'seat', 'shadow', 'sheep', 'shelf', 'shirt', 'shoe', 'short', 'sidewalk', 'sign', 'sink', 'skateboard', 'skateboarder', 'ski', 'skier', 'sky', 'snow', 'sock', 'spot', 'stand', 'stove', 'street light', 'stripe', 'suitcase', 'sunglass', 'surfboard', 'surfer', 'table', 'tail', 'teddy bear', 'tie', 'tile', 'tire', 'toddler', 'toilet', 'top', 'towel', 'tower', 'track', 'train', 'tray', 'tree', 'truck', 'trunk', 'tv', 'umbrella', 'vase', 'wall', 'watch', 'water', 'wave', 'wheel', 'window', 'windshield', 'wing', 'wire', 'wood', 'word', 'writing', 'zebra']\n"
     ]
    }
   ],
   "source": [
    "vg_obj_categories = []\n",
    "for cls in class_list:\n",
    "    vg_obj_categories.append(cls[1])\n",
    "print(vg_obj_categories)"
   ]
  },
  {
   "cell_type": "code",
   "execution_count": 201,
   "metadata": {},
   "outputs": [],
   "source": [
    "final_object_list = [] # any object not in this list will be filtered out\n",
    "for obj in vg_obj_categories:\n",
    "    if any(obj in s for s in coco_obj_categories) or any(obj in s for s in coco_stuff_categories):\n",
    "        final_object_list.append(obj)\n"
   ]
  },
  {
   "cell_type": "code",
   "execution_count": 202,
   "metadata": {},
   "outputs": [
    {
     "name": "stdout",
     "output_type": "stream",
     "text": [
      "['frisbee', 'air', 'back', 'backpack', 'bag', 'ball', 'pavement', 'bat', 'toilet', 'sand', 'bear', 'bed', 'bench', 'bicycle', 'bicycle', 'bird', 'blanket', 'board', 'boat', 'book', 'bottle', 'bowl', 'branch', 'brick', 'bridge', 'broccoli', 'building', 'bus', 'bush', 'cabinet', 'cake', 'car', 'cat', 'ceiling', 'chair', 'clock', 'cloth', 'cloud', 'couch', 'counter', 'cow', 'curtain', 'desk', 'dirt', 'dog', 'door', 'donut', 'ear', 'elephant', 'fence', 'field', 'floor', 'flower', 'food', 'fork', 'fruit', 'giraffe', 'glass', 'glove', 'grass', 'ground', 'hair', 'hand', 'horse', 'house', 'hydrant', 'keyboard', 'kite', 'knife', 'laptop', 'leaves', 'light', 'mirror', 'motorcycle', 'mountain', 'napkin', 'sea', 'orange', 'paper', 'pavement', 'person', 'phone', 'pillow', 'pizza', 'plane', 'plant', 'platform', 'pot', 'racket', 'road', 'rock', 'roof', 'sandwich', 'sheep', 'shelf', 'sign', 'sink', 'skateboard', 'ski', 'sky', 'snow', 'suitcase', 'surfboard', 'table', 'teddy bear', 'tie', 'tile', 'toilet', 'top', 'towel', 'train', 'tree', 'truck', 'tv', 'umbrella', 'vase', 'wall', 'water', 'wave', 'window', 'wood', 'zebra']\n"
     ]
    }
   ],
   "source": [
    "print(final_object_list)"
   ]
  },
  {
   "cell_type": "code",
   "execution_count": 222,
   "metadata": {},
   "outputs": [],
   "source": [
    "deleted=0\n",
    "test = 0\n",
    "paths=['/gt/test/', '/gt/train/']\n",
    "with h5py.File('filtered_vg.h5','a') as f:\n",
    "#     for group in f.keys():\n",
    "#         print(group)\n",
    "    for path in paths:\n",
    "        for key in f[path].keys():\n",
    "            test += 1\n",
    "            obj = f[path+str(key)+'/obj_boxes'].value\n",
    "            arr = f[path+str(key)+'/rlp_labels'].value\n",
    "            sub = f[path+str(key)+'/sub_boxes'].value\n",
    "            num = arr.shape[0]\n",
    "            delete_list = [] # whose rows to be deleted\n",
    "            # those rows should be deleted in reverse manner\n",
    "            for i in range(num):\n",
    "                obj_id = arr[i,0]\n",
    "                sub_id = arr[i,2]\n",
    "                obj_str = class_id2name_dict[obj_id]\n",
    "                sub_str = class_id2name_dict[sub_id]\n",
    "#                 if (obj_str in final_object_list) and (sub_str in final_object_list):\n",
    "                if obj_str in final_object_list and sub_str in final_object_list:\n",
    "                    continue\n",
    "                else: delete_list.append(i)\n",
    "            \n",
    "            # delete rows in obj, arr, sub numpy array in reverse manner\n",
    "            for i in reversed(delete_list):\n",
    "                obj = np.delete(obj, i, axis=0)\n",
    "                arr = np.delete(arr, i, axis=0)\n",
    "                sub = np.delete(sub, i, axis=0)\n",
    "            # if every bounding box is deleted, abandon this image\n",
    "            if obj.size==0:\n",
    "                del f[path+str(key)]\n",
    "                deleted = deleted + 1\n",
    "#                 print(\"deleted\", key)\n",
    "                continue\n",
    "            # clear identical rows in hstacked np array\n",
    "            total = np.hstack((obj,arr,sub))\n",
    "            delete_list = set()\n",
    "            for i in range(total.shape[0]): #generate pairs\n",
    "                for j in range(i+1,total.shape[0]): \n",
    "                    if np.array_equal(total[i],total[j]): #compare rows\n",
    "                        delete_list.add(j)\n",
    "            delete_list = list(delete_list)\n",
    "            delete_list.sort()\n",
    "            for i in reversed(delete_list):\n",
    "                total = np.delete(total, i, axis=0)\n",
    "            # delete rows in delete_list in reverse order\n",
    "            # slice back to the three arrays\n",
    "            obj = total[:,:4]\n",
    "            arr = total[:,4:7]\n",
    "            sub = total[:,7:]\n",
    "            # if this image is kept, update it's keys\n",
    "#             print(\"saved\", key)\n",
    "            del f[path+str(key)+'/obj_boxes']\n",
    "            del f[path+str(key)+'/rlp_labels']\n",
    "            del f[path+str(key)+'/sub_boxes']\n",
    "            f.create_dataset(path+str(key)+'/obj_boxes', data=obj)\n",
    "            f.create_dataset(path+str(key)+'/rlp_labels', data=arr)\n",
    "            f.create_dataset(path+str(key)+'/sub_boxes', data=sub)"
   ]
  },
  {
   "cell_type": "code",
   "execution_count": 223,
   "metadata": {},
   "outputs": [],
   "source": [
    "paths=['/gt/test','/gt/train', '/meta/cls','/meta/imid2path','/meta/pre']\n",
    "fs = h5py.File('filtered_vg.h5', 'r')\n",
    "fd = h5py.File('both_filtered_no_recurrence_vg.h5','w')\n",
    "for path in paths:\n",
    "    group_path = fs[path].parent.name\n",
    "    group_id = fd.require_group(group_path)\n",
    "    fs.copy(path, group_id, name=path.split('/')[-1])"
   ]
  },
  {
   "cell_type": "code",
   "execution_count": 224,
   "metadata": {},
   "outputs": [
    {
     "name": "stdout",
     "output_type": "stream",
     "text": [
      "<HDF5 group \"/gt/test\" (10633 members)>\n",
      "<HDF5 group \"/gt/train\" (30175 members)>\n",
      "<HDF5 group \"/meta/cls\" (2 members)>\n",
      "<HDF5 group \"/meta/imid2path\" (108077 members)>\n",
      "<HDF5 group \"/meta/pre\" (2 members)>\n"
     ]
    }
   ],
   "source": [
    "for path in paths:\n",
    "    print(fd[path])"
   ]
  },
  {
   "cell_type": "code",
   "execution_count": 225,
   "metadata": {},
   "outputs": [],
   "source": [
    "fs.close()\n",
    "fd.close()"
   ]
  },
  {
   "cell_type": "code",
   "execution_count": 212,
   "metadata": {},
   "outputs": [
    {
     "name": "stdout",
     "output_type": "stream",
     "text": [
      "[[122  54 131]]\n"
     ]
    }
   ],
   "source": [
    "with h5py.File('vg1_2_meta.h5','r') as f:\n",
    "    print(f['/gt/test/1591925/rlp_labels'].value)"
   ]
  },
  {
   "cell_type": "code",
   "execution_count": 215,
   "metadata": {},
   "outputs": [
    {
     "ename": "TypeError",
     "evalue": "unhashable type: 'numpy.ndarray'",
     "output_type": "error",
     "traceback": [
      "\u001b[0;31m---------------------------------------------\u001b[0m",
      "\u001b[0;31mTypeError\u001b[0m   Traceback (most recent call last)",
      "\u001b[0;32m<ipython-input-215-950f961d66ee>\u001b[0m in \u001b[0;36m<module>\u001b[0;34m()\u001b[0m\n\u001b[1;32m      1\u001b[0m \u001b[0ms\u001b[0m\u001b[0;34m=\u001b[0m\u001b[0mset\u001b[0m\u001b[0;34m(\u001b[0m\u001b[0;34m)\u001b[0m\u001b[0;34m\u001b[0m\u001b[0m\n\u001b[0;32m----> 2\u001b[0;31m \u001b[0ms\u001b[0m\u001b[0;34m.\u001b[0m\u001b[0madd\u001b[0m\u001b[0;34m(\u001b[0m\u001b[0mnp\u001b[0m\u001b[0;34m.\u001b[0m\u001b[0marray\u001b[0m\u001b[0;34m(\u001b[0m\u001b[0;34m[\u001b[0m\u001b[0;36m1\u001b[0m\u001b[0;34m,\u001b[0m\u001b[0;36m2\u001b[0m\u001b[0;34m,\u001b[0m\u001b[0;36m3\u001b[0m\u001b[0;34m]\u001b[0m\u001b[0;34m)\u001b[0m\u001b[0;34m)\u001b[0m\u001b[0;34m\u001b[0m\u001b[0m\n\u001b[0m\u001b[1;32m      3\u001b[0m \u001b[0mprint\u001b[0m\u001b[0;34m(\u001b[0m\u001b[0ms\u001b[0m\u001b[0;34m)\u001b[0m\u001b[0;34m\u001b[0m\u001b[0m\n\u001b[1;32m      4\u001b[0m \u001b[0ms\u001b[0m\u001b[0;34m.\u001b[0m\u001b[0madd\u001b[0m\u001b[0;34m(\u001b[0m\u001b[0mnp\u001b[0m\u001b[0;34m.\u001b[0m\u001b[0marray\u001b[0m\u001b[0;34m(\u001b[0m\u001b[0;34m[\u001b[0m\u001b[0;36m1\u001b[0m\u001b[0;34m,\u001b[0m\u001b[0;36m2\u001b[0m\u001b[0;34m,\u001b[0m\u001b[0;36m3\u001b[0m\u001b[0;34m]\u001b[0m\u001b[0;34m)\u001b[0m\u001b[0;34m)\u001b[0m\u001b[0;34m\u001b[0m\u001b[0m\n\u001b[1;32m      5\u001b[0m \u001b[0mprint\u001b[0m\u001b[0;34m(\u001b[0m\u001b[0ms\u001b[0m\u001b[0;34m)\u001b[0m\u001b[0;34m\u001b[0m\u001b[0m\n",
      "\u001b[0;31mTypeError\u001b[0m: unhashable type: 'numpy.ndarray'"
     ]
    }
   ],
   "source": [
    "s=set()\n",
    "s.add(np.array([1,2,3]))\n",
    "print(s)\n",
    "s.add(np.array([1,2,3]))\n",
    "print(s)"
   ]
  },
  {
   "cell_type": "code",
   "execution_count": 219,
   "metadata": {},
   "outputs": [
    {
     "name": "stdout",
     "output_type": "stream",
     "text": [
      "[[1 2 3 4 5 5 7]\n",
      " [3 4 5 6 7 8 9]]\n",
      "[[1 2]\n",
      " [3 4]]\n",
      "[[3 4 5]\n",
      " [5 6 7]]\n",
      "[[5 7]\n",
      " [8 9]]\n"
     ]
    }
   ],
   "source": [
    "a=np.array([[1,2],[3,4]])\n",
    "b=np.array([[3,4,5],[5,6,7]])\n",
    "c=np.array([[5,7],[8,9]])\n",
    "d=np.hstack((a,b,c))\n",
    "print(d)\n",
    "print(d[:,:2])\n",
    "print(d[:,2:5])\n",
    "print(d[:,5:])"
   ]
  },
  {
   "cell_type": "code",
   "execution_count": 220,
   "metadata": {},
   "outputs": [
    {
     "name": "stdout",
     "output_type": "stream",
     "text": [
      "[5, 6]\n"
     ]
    }
   ],
   "source": [
    "s=set()\n",
    "s.add(5)\n",
    "s.add(6)\n",
    "print(list(s))"
   ]
  },
  {
   "cell_type": "code",
   "execution_count": null,
   "metadata": {},
   "outputs": [],
   "source": []
  }
 ],
 "metadata": {
  "kernelspec": {
   "display_name": "Python 3",
   "language": "python",
   "name": "python3"
  },
  "language_info": {
   "codemirror_mode": {
    "name": "ipython",
    "version": 3
   },
   "file_extension": ".py",
   "mimetype": "text/x-python",
   "name": "python",
   "nbconvert_exporter": "python",
   "pygments_lexer": "ipython3",
   "version": "3.7.0"
  }
 },
 "nbformat": 4,
 "nbformat_minor": 2
}
